{
 "cells": [
  {
   "cell_type": "code",
   "execution_count": 92,
   "id": "c8efaec5-6dfe-4352-bc11-b25691fe7ac8",
   "metadata": {},
   "outputs": [
    {
     "data": {
      "text/plain": [
       "('the-verdict.txt', <http.client.HTTPMessage at 0x2088cf53670>)"
      ]
     },
     "execution_count": 92,
     "metadata": {},
     "output_type": "execute_result"
    }
   ],
   "source": [
    "import urllib.request\n",
    "url = (\"https://raw.githubusercontent.com/rasbt/\"\n",
    "       \"LLMs-from-scratch/main/ch02/01_main-chapter-code/\"\n",
    "       \"the-verdict.txt\")\n",
    "file_path = \"the-verdict.txt\"\n",
    "urllib.request.urlretrieve(url, file_path)"
   ]
  },
  {
   "cell_type": "code",
   "execution_count": 93,
   "id": "58cd9fb1-b806-47fd-9c7d-552b95602159",
   "metadata": {},
   "outputs": [
    {
     "name": "stdout",
     "output_type": "stream",
     "text": [
      "Total number of character: 20479\n",
      "I HAD always thought Jack Gisburn rather a cheap genius--though a good fellow enough--so it was no \n"
     ]
    }
   ],
   "source": [
    "with open(\"the-verdict.txt\", \"r\", encoding=\"utf-8\") as f:\n",
    "    raw_text = f.read()\n",
    "print(\"Total number of character:\", len(raw_text))\n",
    "print(raw_text[:99])"
   ]
  },
  {
   "cell_type": "markdown",
   "id": "07f3dbea-82d2-487e-a4c7-3e6d84f8dd92",
   "metadata": {},
   "source": [
    "The print command prints the total number of characters followed by the first 99 characters of this file for illustration purposes:"
   ]
  },
  {
   "cell_type": "markdown",
   "id": "04853b35-f7de-4d30-b400-5843e475a1af",
   "metadata": {},
   "source": [
    "Our goal is to tokenize this 20,479-character short story into individual words and special characters that we can then turn into embeddings for LLM training."
   ]
  },
  {
   "cell_type": "code",
   "execution_count": 94,
   "id": "a9a3b2fb-5384-4a03-8a38-0c5c9a84b0bd",
   "metadata": {},
   "outputs": [
    {
     "name": "stdout",
     "output_type": "stream",
     "text": [
      "['Hello,', ' ', 'world.', ' ', 'This,', ' ', 'is', ' ', 'a', ' ', 'test.']\n"
     ]
    }
   ],
   "source": [
    "import re\n",
    "text = \"Hello, world. This, is a test.\"\n",
    "result = re.split(r'(\\s)', text)\n",
    "print(result)"
   ]
  },
  {
   "cell_type": "code",
   "execution_count": 95,
   "id": "d754579c-7a39-4b12-957f-f615e0598ba4",
   "metadata": {},
   "outputs": [
    {
     "name": "stdout",
     "output_type": "stream",
     "text": [
      "['Hello', ',', '', ' ', 'world', '.', '', ' ', 'This', ',', '', ' ', 'is', ' ', 'a', ' ', 'test', '.', '']\n"
     ]
    }
   ],
   "source": [
    "result = re.split(r'([,.]|\\s)', text) # splitting commas and punctuations\n",
    "print(result)"
   ]
  },
  {
   "cell_type": "code",
   "execution_count": 96,
   "id": "56fc2e56-5da0-493a-a6b4-78f495589204",
   "metadata": {},
   "outputs": [
    {
     "name": "stdout",
     "output_type": "stream",
     "text": [
      "['Hello', ',', 'world', '.', 'This', ',', 'is', 'a', 'test', '.']\n"
     ]
    }
   ],
   "source": [
    "result = [item for item in result if item.strip()] # Remove whitespace due to redundancy\n",
    "print(result)"
   ]
  },
  {
   "cell_type": "markdown",
   "id": "4f84ce31-be56-433f-98ec-54652eee97e8",
   "metadata": {},
   "source": [
    "When developing a simple tokenizer, whether we should encode whitespaces as separate characters or just remove them depends on our application and its requirements. Removing whitespaces reduces the memory and computing requirements. However, keeping whitespaces can be useful if we train models that are sensitive to the exact structure of the text"
   ]
  },
  {
   "cell_type": "code",
   "execution_count": 97,
   "id": "28ea7f57-aef9-46e8-b154-b9ec8e800207",
   "metadata": {},
   "outputs": [
    {
     "name": "stdout",
     "output_type": "stream",
     "text": [
      "['Hello', ',', 'world', '.', 'Is', 'this', '--', 'a', 'test', '?']\n"
     ]
    }
   ],
   "source": [
    "text = \"Hello, world. Is this-- a test?\"\n",
    "result = re.split(r'([,.:;?_!\"()\\']|--|\\s)', text)\n",
    "result = [item.strip() for item in result if item.strip()]\n",
    "print(result)"
   ]
  },
  {
   "cell_type": "code",
   "execution_count": 98,
   "id": "d1b3b868-bb32-4db6-877a-5b9ba77149c0",
   "metadata": {},
   "outputs": [
    {
     "name": "stdout",
     "output_type": "stream",
     "text": [
      "4690\n"
     ]
    }
   ],
   "source": [
    "preprocessed = re.split(r'([,.:;?_!\"()\\']|--|\\s)', raw_text)\n",
    "preprocessed = [item.strip() for item in preprocessed if item.strip()]\n",
    "print(len(preprocessed))"
   ]
  },
  {
   "cell_type": "code",
   "execution_count": 99,
   "id": "cb533762-48a6-4907-b60e-e60defe19e85",
   "metadata": {},
   "outputs": [
    {
     "name": "stdout",
     "output_type": "stream",
     "text": [
      "['I', 'HAD', 'always', 'thought', 'Jack', 'Gisburn', 'rather', 'a', 'cheap', 'genius', '--', 'though', 'a', 'good', 'fellow', 'enough', '--', 'so', 'it', 'was', 'no', 'great', 'surprise', 'to', 'me', 'to', 'hear', 'that', ',', 'in']\n"
     ]
    }
   ],
   "source": [
    "print(preprocessed[:30])"
   ]
  },
  {
   "cell_type": "code",
   "execution_count": 100,
   "id": "ad21e48e-fee0-4d5b-8b7c-c544f30c5035",
   "metadata": {},
   "outputs": [
    {
     "name": "stdout",
     "output_type": "stream",
     "text": [
      "1130\n"
     ]
    }
   ],
   "source": [
    "all_words = sorted(set(preprocessed))\n",
    "vocab_size = len(all_words)\n",
    "print(vocab_size)"
   ]
  },
  {
   "cell_type": "markdown",
   "id": "285e8b7d-ac34-4192-9bcf-db225f6ec5d2",
   "metadata": {},
   "source": [
    "\"A dictionary named vocab is created where each unique word from a list, all_words, is given a unique number. Then, the code prints the first 51 word-number pairs from this dictionary.\"\n",
    "Code below"
   ]
  },
  {
   "cell_type": "code",
   "execution_count": 101,
   "id": "3c532fed-a3cc-45b7-aaad-a2da62a67764",
   "metadata": {},
   "outputs": [
    {
     "name": "stdout",
     "output_type": "stream",
     "text": [
      "('!', 0)\n",
      "('\"', 1)\n",
      "(\"'\", 2)\n",
      "('(', 3)\n",
      "(')', 4)\n",
      "(',', 5)\n",
      "('--', 6)\n",
      "('.', 7)\n",
      "(':', 8)\n",
      "(';', 9)\n",
      "('?', 10)\n",
      "('A', 11)\n",
      "('Ah', 12)\n",
      "('Among', 13)\n",
      "('And', 14)\n",
      "('Are', 15)\n",
      "('Arrt', 16)\n",
      "('As', 17)\n",
      "('At', 18)\n",
      "('Be', 19)\n",
      "('Begin', 20)\n",
      "('Burlington', 21)\n",
      "('But', 22)\n",
      "('By', 23)\n",
      "('Carlo', 24)\n",
      "('Chicago', 25)\n",
      "('Claude', 26)\n",
      "('Come', 27)\n",
      "('Croft', 28)\n",
      "('Destroyed', 29)\n",
      "('Devonshire', 30)\n",
      "('Don', 31)\n",
      "('Dubarry', 32)\n",
      "('Emperors', 33)\n",
      "('Florence', 34)\n",
      "('For', 35)\n",
      "('Gallery', 36)\n",
      "('Gideon', 37)\n",
      "('Gisburn', 38)\n",
      "('Gisburns', 39)\n",
      "('Grafton', 40)\n",
      "('Greek', 41)\n",
      "('Grindle', 42)\n",
      "('Grindles', 43)\n",
      "('HAD', 44)\n",
      "('Had', 45)\n",
      "('Hang', 46)\n",
      "('Has', 47)\n",
      "('He', 48)\n",
      "('Her', 49)\n",
      "('Hermia', 50)\n"
     ]
    }
   ],
   "source": [
    "\"A dictionary named vocab is created where each unique word from a list, all_words, is given a unique number. Then, the code prints the first 51 word-number pairs from this dictionary.\"\n",
    "vocab = {token:integer for integer,token in enumerate(all_words)}\n",
    "for i, item in enumerate(vocab.items()):\n",
    "    print(item)\n",
    "    if i >= 50:\n",
    "        break"
   ]
  },
  {
   "cell_type": "markdown",
   "id": "e1767120-b28b-4b6f-b581-34afd45f482f",
   "metadata": {},
   "source": [
    "This code creates a basic tokenizer tool.\n",
    "\n",
    "The SimpleTokenizerV1 class is a tool that converts text to numbers and numbers back to text.\n",
    "\n",
    "Encoding (encode): A method that takes text and converts it into a list of numbers.\n",
    "\n",
    "Decoding (decode): A method that takes a list of numbers and converts it back into text."
   ]
  },
  {
   "cell_type": "code",
   "execution_count": 102,
   "id": "992011c5-2ba4-4a79-9030-6a9dc84a74ac",
   "metadata": {},
   "outputs": [],
   "source": [
    "class SimpleTokenizerV1:\n",
    "    def __init__(self, vocab):\n",
    "        self.str_to_int = vocab\n",
    "        self.int_to_str = {i:s for s,i in vocab.items()}\n",
    "\n",
    "    def encode(self, text):\n",
    "        preprocessed = re.split(r'([,.?_!\"()\\']|--|\\s)', text)\n",
    "        preprocessed = [\n",
    "            item.strip() for item in preprocessed if item.strip()\n",
    "        ]\n",
    "        ids = [self.str_to_int[s] for s in preprocessed]\n",
    "        return ids\n",
    "\n",
    "    def decode(self, ids):\n",
    "        text = \" \".join([self.int_to_str[i] for i in ids]) \n",
    "\n",
    "        text = re.sub(r'\\s+([,.?!\"()\\'])', r'\\1', text)\n",
    "        return text"
   ]
  },
  {
   "cell_type": "code",
   "execution_count": 103,
   "id": "5f96f165-92dc-4497-96bc-40a48e3156c3",
   "metadata": {},
   "outputs": [
    {
     "name": "stdout",
     "output_type": "stream",
     "text": [
      "[1, 56, 2, 850, 988, 602, 533, 746, 5, 1126, 596, 5, 1, 67, 7, 38, 851, 1108, 754, 793, 7]\n"
     ]
    }
   ],
   "source": [
    "tokenizer = SimpleTokenizerV1(vocab)\n",
    "text = \"\"\"\"It's the last he painted, you know,\" \n",
    "       Mrs. Gisburn said with pardonable pride.\"\"\"\n",
    "ids = tokenizer.encode(text)\n",
    "print(ids)"
   ]
  },
  {
   "cell_type": "markdown",
   "id": "1d92b10e-1150-4141-84ea-a086fdfa75af",
   "metadata": {},
   "source": [
    "The preceding code prints the following token IDs:"
   ]
  },
  {
   "cell_type": "code",
   "execution_count": 104,
   "id": "6d847940-6766-4f1e-89b2-04b3fd5bfa5c",
   "metadata": {},
   "outputs": [
    {
     "name": "stdout",
     "output_type": "stream",
     "text": [
      "\" It' s the last he painted, you know,\" Mrs. Gisburn said with pardonable pride.\n"
     ]
    }
   ],
   "source": [
    "print(tokenizer.decode(ids))"
   ]
  },
  {
   "cell_type": "markdown",
   "id": "32148aaf-a619-4551-96ce-c85ed76a1583",
   "metadata": {},
   "source": [
    "Based on this output, we can see that the decode method successfully converted the token IDs back into the original text."
   ]
  },
  {
   "cell_type": "code",
   "execution_count": 105,
   "id": "0159ddbd-89ab-4d09-9324-52f760b495d8",
   "metadata": {},
   "outputs": [],
   "source": [
    "# text = \"Hello, do you like tea?\"\n",
    "# print(tokenizer.encode(text)) # Gives an error "
   ]
  },
  {
   "cell_type": "markdown",
   "id": "b42b515c-4a86-45ad-968b-bbebbd0cf20e",
   "metadata": {},
   "source": [
    "The problem is that the word “Hello” was not used in the “The Verdict” short story. Hence, it is not contained in the vocabulary. This highlights the need to consider large and diverse training sets to extend the vocabulary when working on LLMs."
   ]
  },
  {
   "cell_type": "code",
   "execution_count": 106,
   "id": "45417ace-4be3-4d90-a349-efab00a1d03f",
   "metadata": {},
   "outputs": [
    {
     "name": "stdout",
     "output_type": "stream",
     "text": [
      "1132\n"
     ]
    }
   ],
   "source": [
    "all_tokens = sorted(list(set(preprocessed)))\n",
    "all_tokens.extend([\"<|endoftext|>\", \"<|unk|>\"])\n",
    "vocab = {token:integer for integer,token in enumerate(all_tokens)}\n",
    "\n",
    "print(len(vocab.items()))"
   ]
  },
  {
   "cell_type": "markdown",
   "id": "12f92e9c-1bbc-4876-a015-ea48b3e2769f",
   "metadata": {},
   "source": [
    "Based on the output of this print statement, the new vocabulary size is 1,132 (the previous vocabulary size was 1,130)."
   ]
  },
  {
   "cell_type": "code",
   "execution_count": 107,
   "id": "a3ce4aed-283b-4e43-bc52-ce7f638db3f0",
   "metadata": {},
   "outputs": [
    {
     "name": "stdout",
     "output_type": "stream",
     "text": [
      "('younger', 1127)\n",
      "('your', 1128)\n",
      "('yourself', 1129)\n",
      "('<|endoftext|>', 1130)\n",
      "('<|unk|>', 1131)\n"
     ]
    }
   ],
   "source": [
    "for i, item in enumerate(list(vocab.items())[-5:]):\n",
    "    print(item)"
   ]
  },
  {
   "cell_type": "markdown",
   "id": "cd48cfdd-448c-4379-b4bb-86113c4016fb",
   "metadata": {},
   "source": [
    "Gemini: \n",
    "he most notable change is the inclusion of a new line of code:\n",
    "preprocessed = [item if item in self.str_to_int else \"<|unk|>\" for item in preprocessed]\n",
    "\n",
    "This line of code introduces a new feature that prevents the program from crashing when it encounters a word that isn't in its vocabulary. If a word is not found in the self.str_to_int dictionary, it is replaced with a special placeholder token, <|unk|>. This makes the tokenizer more robust, as it can now handle and encode any text, even if it contains words it has never seen before.\n",
    "Code below"
   ]
  },
  {
   "cell_type": "code",
   "execution_count": 108,
   "id": "a1fd25a3-adb9-462d-8a55-2a27ce2f8698",
   "metadata": {},
   "outputs": [],
   "source": [
    "class SimpleTokenizerV2:\n",
    "    def __init__(self, vocab):\n",
    "        self.str_to_int = vocab\n",
    "        self.int_to_str = { i:s for s,i in vocab.items()}\n",
    "\n",
    "    def encode(self, text):\n",
    "        preprocessed = re.split(r'([,.:;?_!\"()\\']|--|\\s)', text)\n",
    "        preprocessed = [\n",
    "            item.strip() for item in preprocessed if item.strip()\n",
    "        ]\n",
    "        preprocessed = [item if item in self.str_to_int\n",
    "                        else \"<|unk|>\" for item in preprocessed]\n",
    "\n",
    "        ids = [self.str_to_int[s] for s in preprocessed]\n",
    "        return ids\n",
    "\n",
    "    def decode(self, ids):\n",
    "        text = \" \".join([self.int_to_str[i] for i in ids])\n",
    "\n",
    "        text = re.sub(r'\\s+([,.:;?!\"()\\'])', r'\\1', text)\n",
    "        return text"
   ]
  },
  {
   "cell_type": "markdown",
   "id": "6e81ef2e-8cbe-4ede-8f26-2a1e02fbff54",
   "metadata": {},
   "source": [
    "Compared to the SimpleTokenizerV1 we implemented in listing 2.3, the new SimpleTokenizerV2 replaces unknown words with <|unk|> tokens."
   ]
  },
  {
   "cell_type": "code",
   "execution_count": 109,
   "id": "3fd7c044-5d00-49da-af87-ee182ce70edd",
   "metadata": {},
   "outputs": [
    {
     "name": "stdout",
     "output_type": "stream",
     "text": [
      "Hello, do you like tea? <|endoftext|> In the sunlit terraces of the palace.\n"
     ]
    }
   ],
   "source": [
    "text1 = \"Hello, do you like tea?\"\n",
    "text2 = \"In the sunlit terraces of the palace.\"\n",
    "text = \" <|endoftext|> \".join((text1, text2))\n",
    "print(text)"
   ]
  },
  {
   "cell_type": "code",
   "execution_count": 110,
   "id": "3a1d51a4-728d-4fd4-882e-08949148371d",
   "metadata": {},
   "outputs": [
    {
     "name": "stdout",
     "output_type": "stream",
     "text": [
      "[1131, 5, 355, 1126, 628, 975, 10, 1130, 55, 988, 956, 984, 722, 988, 1131, 7]\n"
     ]
    }
   ],
   "source": [
    "tokenizer = SimpleTokenizerV2(vocab)\n",
    "print(tokenizer.encode(text))"
   ]
  },
  {
   "cell_type": "code",
   "execution_count": 111,
   "id": "aef10e24-d960-4cf1-beab-92b6939b0c97",
   "metadata": {},
   "outputs": [
    {
     "name": "stdout",
     "output_type": "stream",
     "text": [
      "<|unk|>, do you like tea? <|endoftext|> In the sunlit terraces of the <|unk|>.\n"
     ]
    }
   ],
   "source": [
    "print(tokenizer.decode(tokenizer.encode(text)))"
   ]
  },
  {
   "cell_type": "markdown",
   "id": "ff0c27dd-bbc2-417b-b095-de32a13f6d14",
   "metadata": {},
   "source": [
    "Based on comparing this detokenized text with the original input text, we know that the training dataset, Edith Wharton’s short story “The Verdict,” does not contain the words “Hello” and “palace.”\n",
    "\n",
    "The <|unk|> token stands for “unknown” and is used to represent any word that is not in the vocabulary built from the training data. When the tokenizer encounters a word it doesn’t know, it replaces it with <|unk|> so the model can still process the input without errors. This is important for handling new or rare words that the model hasn’t seen before."
   ]
  },
  {
   "cell_type": "code",
   "execution_count": 112,
   "id": "2f504f10-55ec-4589-8dcd-a3e2d885e7e1",
   "metadata": {},
   "outputs": [
    {
     "name": "stdout",
     "output_type": "stream",
     "text": [
      "Requirement already satisfied: tiktoken in c:\\users\\jakob\\appdata\\local\\programs\\python\\python310\\lib\\site-packages (0.11.0)\n",
      "Requirement already satisfied: regex>=2022.1.18 in c:\\users\\jakob\\appdata\\local\\programs\\python\\python310\\lib\\site-packages (from tiktoken) (2024.11.6)\n",
      "Requirement already satisfied: requests>=2.26.0 in c:\\users\\jakob\\appdata\\local\\programs\\python\\python310\\lib\\site-packages (from tiktoken) (2.32.3)\n",
      "Requirement already satisfied: charset-normalizer<4,>=2 in c:\\users\\jakob\\appdata\\local\\programs\\python\\python310\\lib\\site-packages (from requests>=2.26.0->tiktoken) (2.0.12)\n",
      "Requirement already satisfied: idna<4,>=2.5 in c:\\users\\jakob\\appdata\\local\\programs\\python\\python310\\lib\\site-packages (from requests>=2.26.0->tiktoken) (3.4)\n",
      "Requirement already satisfied: urllib3<3,>=1.21.1 in c:\\users\\jakob\\appdata\\local\\programs\\python\\python310\\lib\\site-packages (from requests>=2.26.0->tiktoken) (1.26.20)\n",
      "Requirement already satisfied: certifi>=2017.4.17 in c:\\users\\jakob\\appdata\\local\\programs\\python\\python310\\lib\\site-packages (from requests>=2.26.0->tiktoken) (2023.5.7)\n"
     ]
    },
    {
     "name": "stderr",
     "output_type": "stream",
     "text": [
      "WARNING: Ignoring invalid distribution -atplotlib (c:\\users\\jakob\\appdata\\local\\programs\\python\\python310\\lib\\site-packages)\n",
      "WARNING: Ignoring invalid distribution -atplotlib (c:\\users\\jakob\\appdata\\local\\programs\\python\\python310\\lib\\site-packages)\n",
      "WARNING: Ignoring invalid distribution -atplotlib (c:\\users\\jakob\\appdata\\local\\programs\\python\\python310\\lib\\site-packages)\n"
     ]
    }
   ],
   "source": [
    "!pip install tiktoken"
   ]
  },
  {
   "cell_type": "code",
   "execution_count": 113,
   "id": "851e225e-44cc-4dd0-a8e4-4ab6dd1634af",
   "metadata": {},
   "outputs": [
    {
     "name": "stdout",
     "output_type": "stream",
     "text": [
      "tiktoken version: 0.11.0\n"
     ]
    }
   ],
   "source": [
    "from importlib.metadata import version\n",
    "import tiktoken\n",
    "print(\"tiktoken version:\", version(\"tiktoken\"))"
   ]
  },
  {
   "cell_type": "code",
   "execution_count": 114,
   "id": "4398b9f9-8c51-4d78-8184-4d6de428fef2",
   "metadata": {},
   "outputs": [],
   "source": [
    "#Once installed, we can instantiate the BPE tokenizer from tiktoken as follows:\n",
    "tokenizer = tiktoken.get_encoding(\"gpt2\")"
   ]
  },
  {
   "cell_type": "code",
   "execution_count": 115,
   "id": "3e383f88-7a09-44ed-8eb5-c28c13a8c1a5",
   "metadata": {},
   "outputs": [
    {
     "name": "stdout",
     "output_type": "stream",
     "text": [
      "[15496, 11, 466, 345, 588, 8887, 30, 220, 50256, 554, 262, 4252, 18250, 8812, 2114, 1659, 617, 34680, 27271, 13]\n"
     ]
    }
   ],
   "source": [
    "text = (\n",
    "    \"Hello, do you like tea? <|endoftext|> In the sunlit terraces\"\n",
    "     \"of someunknownPlace.\"\n",
    ")\n",
    "integers = tokenizer.encode(text, allowed_special={\"<|endoftext|>\"})\n",
    "print(integers)"
   ]
  },
  {
   "cell_type": "code",
   "execution_count": 116,
   "id": "ca7877c1-d736-4c3e-818d-6670d8963397",
   "metadata": {},
   "outputs": [
    {
     "name": "stdout",
     "output_type": "stream",
     "text": [
      "Hello, do you like tea? <|endoftext|> In the sunlit terracesof someunknownPlace.\n"
     ]
    }
   ],
   "source": [
    "strings = tokenizer.decode(integers)\n",
    "print(strings)"
   ]
  },
  {
   "cell_type": "code",
   "execution_count": 117,
   "id": "7fa1bffa-3510-4d40-8c11-92acb83c841d",
   "metadata": {},
   "outputs": [
    {
     "name": "stdout",
     "output_type": "stream",
     "text": [
      "[33901, 86, 343, 86, 220, 959]\n"
     ]
    }
   ],
   "source": [
    "text = (\n",
    "    \"Akwirw ier\"\n",
    ")\n",
    "integers = tokenizer.encode(text, allowed_special={\"<|endoftext|>\"})\n",
    "print(integers)"
   ]
  },
  {
   "cell_type": "code",
   "execution_count": 118,
   "id": "5c73d7a9-b982-42bb-8981-dd9b86f80e1c",
   "metadata": {},
   "outputs": [
    {
     "name": "stdout",
     "output_type": "stream",
     "text": [
      "Akwirw ier\n"
     ]
    }
   ],
   "source": [
    "strings = tokenizer.decode(integers)\n",
    "print(strings)"
   ]
  },
  {
   "attachments": {
    "cad12332-5e46-4207-82ea-2d09ec57e3bd.png": {
     "image/png": "[encoded data removed]"
    }
   },
   "cell_type": "markdown",
   "id": "7b370601-a30a-4770-a0ff-412cc55829c1",
   "metadata": {},
   "source": [
    "Now we want to make a data-loader like in the image where we fetch input-target pairs with a sliding window approach: \n",
    "![image.png](attachment:cad12332-5e46-4207-82ea-2d09ec57e3bd.png)"
   ]
  },
  {
   "cell_type": "code",
   "execution_count": 119,
   "id": "ccd9d2f9-302b-49d2-9cbd-a1a0c8ad405a",
   "metadata": {},
   "outputs": [
    {
     "name": "stdout",
     "output_type": "stream",
     "text": [
      "5145\n"
     ]
    }
   ],
   "source": [
    "with open(\"the-verdict.txt\", \"r\", encoding=\"utf-8\") as f:\n",
    "    raw_text = f.read()\n",
    "\n",
    "enc_text = tokenizer.encode(raw_text)\n",
    "print(len(enc_text))"
   ]
  },
  {
   "cell_type": "markdown",
   "id": "aaedf588-2c9c-48a8-b418-03acd47b7b91",
   "metadata": {},
   "source": [
    "Next, we remove the first 50 tokens from the dataset for demonstration purposes, as it results in a slightly more interesting text passage in the next steps:"
   ]
  },
  {
   "cell_type": "code",
   "execution_count": 120,
   "id": "d1f94366-dfb5-4e3b-973f-315ecd7f632d",
   "metadata": {},
   "outputs": [],
   "source": [
    "enc_sample = enc_text[50:]"
   ]
  },
  {
   "cell_type": "markdown",
   "id": "c2d9d4de-dde0-4789-8cbb-2d712a0d8292",
   "metadata": {},
   "source": [
    "One of the easiest and most intuitive ways to create the input–target pairs for the next-word prediction task is to create two variables, x and y, where x contains the input tokens and y contains the targets, which are the inputs shifted by 1:"
   ]
  },
  {
   "cell_type": "code",
   "execution_count": 121,
   "id": "8b9d73de-f224-4469-a084-24b6b524698b",
   "metadata": {},
   "outputs": [
    {
     "name": "stdout",
     "output_type": "stream",
     "text": [
      "x: [290, 4920, 2241, 287]\n",
      "y:      [4920, 2241, 287, 257]\n"
     ]
    }
   ],
   "source": [
    "context_size = 4\n",
    "x = enc_sample[:context_size]\n",
    "y = enc_sample[1:context_size+1]\n",
    "print(f\"x: {x}\")\n",
    "print(f\"y:      {y}\")"
   ]
  },
  {
   "cell_type": "markdown",
   "id": "38c2b7b5-7cea-4a95-b972-b59657245347",
   "metadata": {},
   "source": [
    "By processing the inputs along with the targets, which are the inputs shifted by one position, we can create the next-word prediction tasks (see figure 2.12), as follows:"
   ]
  },
  {
   "cell_type": "code",
   "execution_count": 122,
   "id": "0053bfc7-f1bd-4a2d-8a3d-f9e907921958",
   "metadata": {},
   "outputs": [
    {
     "name": "stdout",
     "output_type": "stream",
     "text": [
      "[290] ----> 4920\n",
      "[290, 4920] ----> 2241\n",
      "[290, 4920, 2241] ----> 287\n",
      "[290, 4920, 2241, 287] ----> 257\n"
     ]
    }
   ],
   "source": [
    "for i in range(1, context_size+1):\n",
    "    context = enc_sample[:i]\n",
    "    desired = enc_sample[i]\n",
    "    print(context, \"---->\", desired)"
   ]
  },
  {
   "cell_type": "code",
   "execution_count": 123,
   "id": "68cf7d64-6d08-43c5-9b69-46e8bacf02d4",
   "metadata": {},
   "outputs": [
    {
     "name": "stdout",
     "output_type": "stream",
     "text": [
      " and ---->  established\n",
      " and established ---->  himself\n",
      " and established himself ---->  in\n",
      " and established himself in ---->  a\n"
     ]
    }
   ],
   "source": [
    "for i in range(1, context_size+1):\n",
    "    context = enc_sample[:i]\n",
    "    desired = enc_sample[i]\n",
    "    print(tokenizer.decode(context), \"---->\", tokenizer.decode([desired]))"
   ]
  },
  {
   "cell_type": "markdown",
   "id": "fd492418-9d8d-408b-b287-321a4ce8198b",
   "metadata": {},
   "source": [
    "This code, written in Python, is used to prepare text data for a GPT (Generative Pre-trained Transformer) model. The `GPTDatasetV1` class is defined for this purpose. Text is processed and broken down into smaller, sequential chunks. These chunks are then converted into numerical tensors, with each chunk being separated into an input sequence and a corresponding target sequence. The target sequence is created by shifting the input sequence by one token, which is a common practice for training language models to predict the next word in a sequence. The `__len__` method allows for the determination of the total number of data samples, while the `__getitem__` method enables a specific data sample to be retrieved by its index.\n",
    "CODE BELOW"
   ]
  },
  {
   "cell_type": "code",
   "execution_count": 124,
   "id": "959d706d-5b7d-4a1f-be83-0a805365c83f",
   "metadata": {},
   "outputs": [],
   "source": [
    "import torch\n",
    "from torch.utils.data import Dataset, DataLoader\n",
    "class GPTDatasetV1(Dataset):\n",
    "    def __init__(self, txt, tokenizer, max_length, stride):\n",
    "        self.input_ids = []\n",
    "        self.target_ids = []\n",
    "\n",
    "        token_ids = tokenizer.encode(txt)\n",
    "\n",
    "        for i in range(0, len(token_ids) - max_length, stride):\n",
    "            input_chunk = token_ids[i:i + max_length]\n",
    "            target_chunk = token_ids[i + 1: i + max_length + 1]\n",
    "            self.input_ids.append(torch.tensor(input_chunk))\n",
    "            self.target_ids.append(torch.tensor(target_chunk))\n",
    "\n",
    "    def __len__(self):\n",
    "        return len(self.input_ids)\n",
    "\n",
    "    def __getitem__(self, idx):\n",
    "        return self.input_ids[idx], self.target_ids[idx]\n",
    "\n"
   ]
  },
  {
   "cell_type": "markdown",
   "id": "6f1c4659-8dd6-42d8-9e39-1b373b6338db",
   "metadata": {},
   "source": [
    "A PyTorch DataLoader for a GPT model is created by this function. It uses a GPT-2 tokenizer to process text, preparing it as a GPTDatasetV1 object. The DataLoader then efficiently handles the data in batches, with options for shuffling, dropping incomplete batches, and using multiple worker processes for faster loading. CODE BELOW"
   ]
  },
  {
   "cell_type": "code",
   "execution_count": 125,
   "id": "67fd5f68-43d6-445c-b77b-d5ff9d5659e3",
   "metadata": {},
   "outputs": [],
   "source": [
    "def create_dataloader_v1(txt, batch_size=4, max_length=256,\n",
    "                         stride=128, shuffle=True, drop_last=True,\n",
    "                         num_workers=0):\n",
    "    tokenizer = tiktoken.get_encoding(\"gpt2\")\n",
    "    dataset = GPTDatasetV1(txt, tokenizer, max_length, stride)\n",
    "    dataloader = DataLoader(\n",
    "        dataset,\n",
    "        batch_size=batch_size,\n",
    "        shuffle=shuffle,\n",
    "        drop_last=drop_last,\n",
    "        num_workers=num_workers\n",
    "    )\n",
    "\n",
    "    return dataloader"
   ]
  },
  {
   "cell_type": "code",
   "execution_count": 126,
   "id": "dbaa2a66-d407-49d3-baea-5489dd822f89",
   "metadata": {},
   "outputs": [
    {
     "name": "stdout",
     "output_type": "stream",
     "text": [
      "[tensor([[   40,   367,  2885,  1464,  1807,  3619,   402,   271],\n",
      "        [ 2885,  1464,  1807,  3619,   402,   271, 10899,  2138]]), tensor([[  367,  2885,  1464,  1807,  3619,   402,   271, 10899],\n",
      "        [ 1464,  1807,  3619,   402,   271, 10899,  2138,   257]])]\n"
     ]
    }
   ],
   "source": [
    "with open(\"the-verdict.txt\", \"r\", encoding=\"utf-8\") as f:\n",
    "    raw_text = f.read()\n",
    "\n",
    "dataloader = create_dataloader_v1(\n",
    "    raw_text, batch_size=2, max_length=8, stride=2, shuffle=False)\n",
    "data_iter = iter(dataloader)\n",
    "first_batch = next(data_iter)\n",
    "print(first_batch)"
   ]
  },
  {
   "cell_type": "markdown",
   "id": "372fdf37-eefc-48c9-b12f-7eb2eb2569af",
   "metadata": {},
   "source": [
    "GEMINI: In the provided Python code, several parameters are used to configure the creation of a data loader for processing text. An explanation of these parameters is as follows:\n",
    "\n",
    "* `raw_text`: This parameter holds the complete text that is to be processed. It is the full input data from which smaller text sequences will be extracted for training a model.\n",
    "* `batch_size=2`: This determines the number of text sequences that are processed at one time. A batch size of 2 means that two input sequences and their corresponding target sequences will be processed together as a single batch.\n",
    "* `max_length=8`: This parameter specifies the length of each individual text sequence. Each input sequence will be composed of eight tokens, and each target sequence will also have a length of eight tokens. This is the size of the \"window\" that moves over the text.\n",
    "* `stride=2`: This parameter dictates how the input window moves across the text. A stride of 2 means that after the first sequence is extracted, the next sequence will begin two tokens after the start of the previous one. A smaller stride results in more overlapping between sequences, while a larger stride leads to less overlap.\n",
    "* `shuffle=False`: This controls the order in which the data is presented. When `shuffle` is set to `False`, the data sequences are processed in their original, sequential order. If it were set to `True`, the order of the sequences would be randomized before being passed to the model."
   ]
  },
  {
   "cell_type": "markdown",
   "id": "d869e784-4694-45e7-b5a6-292df4165dc2",
   "metadata": {},
   "source": [
    "The first_batch variable contains two tensors: the first tensor stores the input token IDs, and the second tensor stores the target token IDs. Since the max_length is set to 4, each of the two tensors contains four token IDs. Note that an input size of 4 is quite small and only chosen for simplicity. It is common to train LLMs with input sizes of at least 256."
   ]
  },
  {
   "cell_type": "markdown",
   "id": "060c201e-d411-4a01-a3d6-4f91aa9671fd",
   "metadata": {},
   "source": [
    "GEMINI: \n",
    "The dataloader processes the raw text, which begins with \"The verdict\". The tokenizer converts this text into a sequence of tokens. The token IDs for \"The verdict\" are likely 40 (for \"The\") and 367 (for \"verdict\").\n",
    "\n",
    "The first tensor, tensor([[ 40, 367, 2885, 1464]]), represents the input token IDs. The first input sequence is composed of the first four tokens from the text, which correspond to \"The verdict\" and two subsequent tokens.\n",
    "\n",
    "The second tensor, tensor([[ 367, 2885, 1464, 1807]]), represents the target token IDs. In this type of language model training, the target sequence is shifted by one position relative to the input sequence. This means the model is trained to predict the next token in the sequence. For example, given \"The\" (token ID 40), the model is trained to predict \"verdict\" (token ID 367). This shift is why the first token ID in the target tensor is 367, which corresponds to the second token ID in the input tensor.\n",
    "\n",
    "In essence, a training example is formed by pairing an input sequence with its corresponding target sequence, which is the same sequence but shifted one position to the right. The model is thereby trained on the task of predicting the next token in a sequence."
   ]
  },
  {
   "cell_type": "code",
   "execution_count": 127,
   "id": "084ce113-aeed-495a-84b8-307b0378eb38",
   "metadata": {},
   "outputs": [
    {
     "name": "stdout",
     "output_type": "stream",
     "text": [
      "[tensor([[ 1807,  3619,   402,   271, 10899,  2138,   257,  7026],\n",
      "        [  402,   271, 10899,  2138,   257,  7026, 15632,   438]]), tensor([[ 3619,   402,   271, 10899,  2138,   257,  7026, 15632],\n",
      "        [  271, 10899,  2138,   257,  7026, 15632,   438,  2016]])]\n"
     ]
    }
   ],
   "source": [
    "second_batch = next(data_iter)\n",
    "print(second_batch)"
   ]
  },
  {
   "cell_type": "code",
   "execution_count": 128,
   "id": "9fdb9931-eedb-422a-a860-0b68e70d8212",
   "metadata": {},
   "outputs": [
    {
     "name": "stdout",
     "output_type": "stream",
     "text": [
      "Inputs:\n",
      " tensor([[   40,   367,  2885,  1464],\n",
      "        [ 1807,  3619,   402,   271],\n",
      "        [10899,  2138,   257,  7026],\n",
      "        [15632,   438,  2016,   257],\n",
      "        [  922,  5891,  1576,   438],\n",
      "        [  568,   340,   373,   645],\n",
      "        [ 1049,  5975,   284,   502],\n",
      "        [  284,  3285,   326,    11]])\n",
      "\n",
      "Targets:\n",
      " tensor([[  367,  2885,  1464,  1807],\n",
      "        [ 3619,   402,   271, 10899],\n",
      "        [ 2138,   257,  7026, 15632],\n",
      "        [  438,  2016,   257,   922],\n",
      "        [ 5891,  1576,   438,   568],\n",
      "        [  340,   373,   645,  1049],\n",
      "        [ 5975,   284,   502,   284],\n",
      "        [ 3285,   326,    11,   287]])\n"
     ]
    }
   ],
   "source": [
    "dataloader = create_dataloader_v1(\n",
    "    raw_text, batch_size=8, max_length=4, stride=4,\n",
    "    shuffle=False\n",
    ")\n",
    "\n",
    "data_iter = iter(dataloader)\n",
    "inputs, targets = next(data_iter)\n",
    "print(\"Inputs:\\n\", inputs)\n",
    "print(\"\\nTargets:\\n\", targets)"
   ]
  },
  {
   "cell_type": "markdown",
   "id": "9f2a6feb-dddd-4861-852c-84a6287fe6b6",
   "metadata": {},
   "source": [
    "2.7 Creating token embeddings\n",
    "The last step in preparing the input text for LLM training is to convert the token IDs into embedding vectors, as shown in figure 2.15. As a preliminary step, we must initialize these embedding weights with random values. This initialization serves as the starting point for the LLM’s learning process. "
   ]
  },
  {
   "cell_type": "markdown",
   "id": "f913cfe4-5d12-4491-87a5-5b4db547a050",
   "metadata": {},
   "source": [
    "Suppose we have the following four input tokens with IDs 2, 3, 5, and 1:"
   ]
  },
  {
   "cell_type": "code",
   "execution_count": 129,
   "id": "769dcd5c-2c81-411b-b600-5530f88e08b9",
   "metadata": {},
   "outputs": [],
   "source": [
    "input_ids = torch.tensor([2, 3, 5, 1])"
   ]
  },
  {
   "cell_type": "markdown",
   "id": "594dc6d4-e741-442f-b37e-4329be4f00a0",
   "metadata": {},
   "source": [
    "For the sake of simplicity, suppose we have a small vocabulary of only 6 words. For the sake of simplicity, suppose we have a small vocabulary of only 6 words:"
   ]
  },
  {
   "cell_type": "code",
   "execution_count": 130,
   "id": "e390b8f1-8715-475f-b623-edf78e429f1a",
   "metadata": {},
   "outputs": [],
   "source": [
    "vocab_size = 6\n",
    "output_dim = 3"
   ]
  },
  {
   "cell_type": "markdown",
   "id": "cda7c55a-bd15-4812-9c74-10b75fb953b3",
   "metadata": {},
   "source": [
    "Using the vocab_size and output_dim, we can instantiate an embedding layer in PyTorch, setting the random seed to 123 for reproducibility purposes:"
   ]
  },
  {
   "cell_type": "code",
   "execution_count": 131,
   "id": "8b63d9ce-390e-47cb-9031-68ad3c9b0fbc",
   "metadata": {},
   "outputs": [
    {
     "name": "stdout",
     "output_type": "stream",
     "text": [
      "Parameter containing:\n",
      "tensor([[ 0.3374, -0.1778, -0.1690],\n",
      "        [ 0.9178,  1.5810,  1.3010],\n",
      "        [ 1.2753, -0.2010, -0.1606],\n",
      "        [-0.4015,  0.9666, -1.1481],\n",
      "        [-1.1589,  0.3255, -0.6315],\n",
      "        [-2.8400, -0.7849, -1.4096]], requires_grad=True)\n"
     ]
    }
   ],
   "source": [
    "torch.manual_seed(123)\n",
    "embedding_layer = torch.nn.Embedding(vocab_size, output_dim)\n",
    "print(embedding_layer.weight)"
   ]
  },
  {
   "cell_type": "markdown",
   "id": "382b83e1-e23b-4b28-95e5-d0a6ab9a23d2",
   "metadata": {},
   "source": [
    "The weight matrix of the embedding layer contains small, random values. These values are optimized during LLM training as part of the LLM optimization itself... There is one row for each of the six possible tokens in the vocabulary, and there is one column for each of the three embedding dimensions."
   ]
  },
  {
   "cell_type": "markdown",
   "id": "e6eefc7d-c983-4f9c-8c23-d4dab2b2c906",
   "metadata": {},
   "source": [
    "The print statement prints the embedding layer’s underlying weight matrix:"
   ]
  },
  {
   "cell_type": "code",
   "execution_count": 132,
   "id": "5e98c46a-2890-42ad-914f-5290c93bf95c",
   "metadata": {},
   "outputs": [
    {
     "name": "stdout",
     "output_type": "stream",
     "text": [
      "tensor([[-0.4015,  0.9666, -1.1481]], grad_fn=<EmbeddingBackward0>)\n"
     ]
    }
   ],
   "source": [
    "print(embedding_layer(torch.tensor([3]))) # output is identical to the fourth row. In other words, the embedding layer is essentially a lookup operation that retrieves rows from the embedding layer’s weight matrix via a token ID."
   ]
  },
  {
   "cell_type": "markdown",
   "id": "df466c30-d583-49d8-9038-9f89a1389e1b",
   "metadata": {},
   "source": [
    "The embedding layer is just a more efficient implementation equivalent to the one-hot encoding and matrix-multiplication approach, it can be seen as a neural network layer that can be optimized via backpropagation."
   ]
  },
  {
   "cell_type": "code",
   "execution_count": 133,
   "id": "aeaef249-3288-4ebf-95f9-9d14842c6e38",
   "metadata": {},
   "outputs": [
    {
     "name": "stdout",
     "output_type": "stream",
     "text": [
      "tensor([[ 1.2753, -0.2010, -0.1606],\n",
      "        [-0.4015,  0.9666, -1.1481],\n",
      "        [-2.8400, -0.7849, -1.4096],\n",
      "        [ 0.9178,  1.5810,  1.3010]], grad_fn=<EmbeddingBackward0>)\n"
     ]
    }
   ],
   "source": [
    "print(embedding_layer(input_ids))"
   ]
  },
  {
   "cell_type": "markdown",
   "id": "1d366919-b597-4adb-b698-003411b4c399",
   "metadata": {},
   "source": [
    "Previously, we focused on very small embedding sizes for simplicity. Now, let’s consider more realistic and useful embedding sizes and encode the input tokens into a 256-dimensional vector representation. Furthermore, we assume that the token IDs were created by the BPE tokenizer we implemented earlier, which has a vocabulary size of 50,257:"
   ]
  },
  {
   "cell_type": "code",
   "execution_count": 134,
   "id": "d5eebae8-c287-4a40-bd7c-356f7cccb7ce",
   "metadata": {},
   "outputs": [],
   "source": [
    "vocab_size = 50257\n",
    "output_dim = 256\n",
    "token_embedding_layer = torch.nn.Embedding(vocab_size, output_dim)"
   ]
  },
  {
   "cell_type": "markdown",
   "id": "e4573a78-5474-48a9-ad6e-c566934568d4",
   "metadata": {},
   "source": [
    "If we sample data from the data loader, we embed each token in each batch into a 256-dimensional vector. If we have a batch size of 8 with four tokens each, the result will be an 8 × 4 × 256 tensor."
   ]
  },
  {
   "cell_type": "code",
   "execution_count": 135,
   "id": "578c84ab-9802-49f6-8ef4-1141d28dafa6",
   "metadata": {},
   "outputs": [
    {
     "name": "stdout",
     "output_type": "stream",
     "text": [
      "Token IDs:\n",
      " tensor([[   40,   367,  2885,  1464],\n",
      "        [ 1807,  3619,   402,   271],\n",
      "        [10899,  2138,   257,  7026],\n",
      "        [15632,   438,  2016,   257],\n",
      "        [  922,  5891,  1576,   438],\n",
      "        [  568,   340,   373,   645],\n",
      "        [ 1049,  5975,   284,   502],\n",
      "        [  284,  3285,   326,    11]])\n",
      "\n",
      "Inputs shape:\n",
      " torch.Size([8, 4])\n"
     ]
    }
   ],
   "source": [
    "max_length = 4\n",
    "dataloader = create_dataloader_v1(\n",
    "    raw_text, batch_size=8, max_length=max_length,\n",
    "   stride=max_length, shuffle=False\n",
    ")\n",
    "data_iter = iter(dataloader)\n",
    "inputs, targets = next(data_iter)\n",
    "print(\"Token IDs:\\n\", inputs)\n",
    "print(\"\\nInputs shape:\\n\", inputs.shape)\n",
    "#As we can see, the token ID tensor is 8 × 4 dimensional, meaning that the data batch consists of eight text samples with four tokens each."
   ]
  },
  {
   "cell_type": "code",
   "execution_count": 136,
   "id": "5c4a71b1-9473-412d-838b-1617fdb4c840",
   "metadata": {},
   "outputs": [
    {
     "name": "stdout",
     "output_type": "stream",
     "text": [
      "torch.Size([8, 4, 256])\n"
     ]
    }
   ],
   "source": [
    "token_embeddings = token_embedding_layer(inputs)\n",
    "print(token_embeddings.shape) #The 8 × 4 × 256–dimensional tensor output shows that each token ID is now embedded as a 256-dimensional vector."
   ]
  },
  {
   "cell_type": "markdown",
   "id": "86efe4b5-6340-4704-9874-501db3c7b19f",
   "metadata": {},
   "source": [
    "For a GPT model’s absolute embedding approach, we just need to create another embedding layer that has the same embedding dimension as the token_embedding_ layer"
   ]
  },
  {
   "cell_type": "code",
   "execution_count": 137,
   "id": "d84de78a-c575-4aeb-8208-9d2fc2992dab",
   "metadata": {},
   "outputs": [
    {
     "name": "stdout",
     "output_type": "stream",
     "text": [
      "torch.Size([4, 256])\n"
     ]
    }
   ],
   "source": [
    "context_length = max_length\n",
    "pos_embedding_layer = torch.nn.Embedding(context_length, output_dim)\n",
    "pos_embeddings = pos_embedding_layer(torch.arange(context_length))\n",
    "print(pos_embeddings.shape)"
   ]
  },
  {
   "cell_type": "markdown",
   "id": "635d628b-fc9f-4877-81a8-724824c60681",
   "metadata": {},
   "source": [
    "When creating positional embeddings for a large language model (LLM), we need to tell the model the position of each token in the input text. To do this, we create a vector using torch.arange(context_length), which is just a list of numbers starting from 0 up to one less than the maximum input length (context_length - 1). The context_length is the maximum number of tokens the model can handle at once. If the input text is longer than this limit, we have to cut (truncate) the text so it fits within the allowed size. This way, each position in the input gets a unique number, helping the model understand the order of the tokens."
   ]
  },
  {
   "cell_type": "markdown",
   "id": "583f7a0c-c1e6-4ae6-b941-22b2ac688f8c",
   "metadata": {},
   "source": [
    "As we can see, the positional embedding tensor consists of four 256-dimensional vectors. We can now add these directly to the token embeddings, where PyTorch will add the 4 × 256–dimensional pos_embeddings tensor to each 4 × 256–dimensional token embedding tensor in each of the eight batches:"
   ]
  },
  {
   "cell_type": "code",
   "execution_count": 138,
   "id": "f14f0857-e05f-4986-b09c-3f2f03c850f1",
   "metadata": {},
   "outputs": [
    {
     "name": "stdout",
     "output_type": "stream",
     "text": [
      "torch.Size([8, 4, 256])\n"
     ]
    }
   ],
   "source": [
    "input_embeddings = token_embeddings + pos_embeddings\n",
    "print(input_embeddings.shape)"
   ]
  },
  {
   "cell_type": "markdown",
   "id": "d4c663d0-9af7-4f50-9ba1-cbb397569080",
   "metadata": {},
   "source": [
    "# Coding the attention mechanisms\n"
   ]
  },
  {
   "cell_type": "markdown",
   "id": "0cc04465-b95b-4c98-822b-37e3e988ca36",
   "metadata": {},
   "source": [
    "Consider the following input sentence, which has already been embedded into three-dimensional vectors (see chapter 2). I’ve chosen a small embedding dimension to ensure it fits on the page without line breaks:"
   ]
  },
  {
   "cell_type": "code",
   "execution_count": 139,
   "id": "a45a8ecb-2931-4910-a0c8-aecb3583adfa",
   "metadata": {},
   "outputs": [],
   "source": [
    "import torch\n",
    "inputs = torch.tensor(\n",
    "  [[0.43, 0.15, 0.89], # Your     (x^1)\n",
    "   [0.55, 0.87, 0.66], # journey  (x^2)\n",
    "   [0.57, 0.85, 0.64], # starts   (x^3)\n",
    "   [0.22, 0.58, 0.33], # with     (x^4)\n",
    "   [0.77, 0.25, 0.10], # one      (x^5)\n",
    "   [0.05, 0.80, 0.55]] # step     (x^6)\n",
    ")"
   ]
  },
  {
   "cell_type": "markdown",
   "id": "ae928ec0-b0b0-4ce7-8ed9-6890a7a8253c",
   "metadata": {},
   "source": [
    "Figure 3.8 illustrates how we calculate the intermediate attention scores between the query token and each input token. We determine these scores by computing the dot product of the query, x(2), with every other input token:"
   ]
  },
  {
   "cell_type": "code",
   "execution_count": 140,
   "id": "63a3a16c-c5f2-49ee-ac1b-d3ebbc4897d4",
   "metadata": {},
   "outputs": [
    {
     "name": "stdout",
     "output_type": "stream",
     "text": [
      "tensor([0.9544, 1.4950, 1.4754, 0.8434, 0.7070, 1.0865])\n"
     ]
    }
   ],
   "source": [
    "query = inputs[1]\n",
    "attn_scores_2 = torch.empty(inputs.shape[0])\n",
    "for i, x_i in enumerate(inputs):\n",
    "    attn_scores_2[i] = torch.dot(x_i, query)\n",
    "print(attn_scores_2) # The computed attention scores "
   ]
  },
  {
   "cell_type": "markdown",
   "id": "bbca7ce8-a257-4be7-8e4b-ef729c126b42",
   "metadata": {},
   "source": [
    "A dot product is essentially a concise way of multiplying two vectors element-wise and then summing the products, which can be demonstrated as follows:"
   ]
  },
  {
   "cell_type": "code",
   "execution_count": 141,
   "id": "df4dfbfc-c7e7-4f7f-b322-74ae64d7ce2e",
   "metadata": {},
   "outputs": [
    {
     "name": "stdout",
     "output_type": "stream",
     "text": [
      "tensor(0.9544)\n",
      "tensor(0.9544)\n"
     ]
    }
   ],
   "source": [
    "res = 0.\n",
    "for idx, element in enumerate(inputs[0]):\n",
    "    res += inputs[0][idx] * query[idx]\n",
    "print(res)\n",
    "print(torch.dot(inputs[0], query)) #The output confirms that the sum of the element-wise multiplication gives the same results as the dot product:"
   ]
  },
  {
   "cell_type": "markdown",
   "id": "26e56bc9-93f4-41d4-aafb-40aadff9fc4e",
   "metadata": {},
   "source": [
    "Beyond viewing the dot product operation as a mathematical tool that combines two vectors to yield a scalar value, the dot product is a measure of similarity because it quantifies how closely two vectors are aligned: a higher dot product indicates a greater degree of alignment or similarity between the vectors. In the context of self-attention mechanisms, the dot product determines the extent to which each element in a sequence focuses on, or “attends to,” any other element: the higher the dot product, the higher the similarity and attention score between two elements."
   ]
  },
  {
   "cell_type": "markdown",
   "id": "724ec5ad-7193-479f-9157-0df0fd23f1a6",
   "metadata": {},
   "source": [
    "we normalize each of the attention scores we computed previously. The main goal behind the normalization is to obtain attention weights (Attention weights are normalized scores obtained from attention mechanisms, typically using the softmax function, which ensures they sum to 1 and represent the relative importance of different input elements in a sequence) that sum up to 1. This normalization is a convention that is useful for interpretation and maintaining training stability in an LLM."
   ]
  },
  {
   "cell_type": "code",
   "execution_count": 142,
   "id": "a482bc1e-361a-43f5-be4d-cd85944a776b",
   "metadata": {},
   "outputs": [
    {
     "name": "stdout",
     "output_type": "stream",
     "text": [
      "Attention weights: tensor([0.1455, 0.2278, 0.2249, 0.1285, 0.1077, 0.1656])\n",
      "Sum: tensor(1.0000)\n"
     ]
    }
   ],
   "source": [
    "attn_weights_2_tmp = attn_scores_2 / attn_scores_2.sum()\n",
    "print(\"Attention weights:\", attn_weights_2_tmp)\n",
    "print(\"Sum:\", attn_weights_2_tmp.sum())"
   ]
  },
  {
   "cell_type": "markdown",
   "id": "c15c4305-7d8d-490a-a13a-04079e00b597",
   "metadata": {},
   "source": [
    "In practice, it’s more common and advisable to use the softmax function for normalization. This approach is better at managing extreme values and offers more favorable gradient (A gradient is a vector containing all the partial derivatives of a multivariate function) properties during training. The following is a basic implementation of the softmax function for normalizing the attention scores:"
   ]
  },
  {
   "cell_type": "code",
   "execution_count": 143,
   "id": "16fe8ebb-ed14-4b8f-ac83-21f8213e1faf",
   "metadata": {},
   "outputs": [
    {
     "name": "stdout",
     "output_type": "stream",
     "text": [
      "Attention weights: tensor([0.1385, 0.2379, 0.2333, 0.1240, 0.1082, 0.1581])\n",
      "Sum: tensor(1.)\n"
     ]
    }
   ],
   "source": [
    "def softmax_naive(x):\n",
    "    return torch.exp(x) / torch.exp(x).sum(dim=0)\n",
    "\n",
    "attn_weights_2_naive = softmax_naive(attn_scores_2)\n",
    "print(\"Attention weights:\", attn_weights_2_naive)\n",
    "print(\"Sum:\", attn_weights_2_naive.sum())"
   ]
  },
  {
   "cell_type": "markdown",
   "id": "0b1f7b83-0272-47f2-99db-316f3dd64088",
   "metadata": {},
   "source": [
    "In addition, the softmax function ensures that the attention weights are always positive. This makes the output interpretable as probabilities or relative importance, where higher weights indicate greater importance."
   ]
  },
  {
   "cell_type": "markdown",
   "id": "db6f5991-a55e-4eb5-a6d1-551ce05c162b",
   "metadata": {},
   "source": [
    "Note that this naive softmax implementation (softmax_naive) may encounter numerical instability problems, such as overflow and underflow, when dealing with large or small input values. Therefore, in practice, it’s advisable to use the PyTorch implementation of softmax, which has been extensively optimized for performance:"
   ]
  },
  {
   "cell_type": "code",
   "execution_count": 144,
   "id": "9a18b3e6-8266-4754-8749-ed69aeccbe9b",
   "metadata": {},
   "outputs": [
    {
     "name": "stdout",
     "output_type": "stream",
     "text": [
      "Attention weights: tensor([0.1385, 0.2379, 0.2333, 0.1240, 0.1082, 0.1581])\n",
      "Sum: tensor(1.)\n"
     ]
    }
   ],
   "source": [
    "attn_weights_2 = torch.softmax(attn_scores_2, dim=0)\n",
    "print(\"Attention weights:\", attn_weights_2)\n",
    "print(\"Sum:\", attn_weights_2.sum())"
   ]
  },
  {
   "cell_type": "markdown",
   "id": "0874975a-1051-445c-b319-88528533aaf4",
   "metadata": {},
   "source": [
    "Now that we have computed the normalized attention weights, we are ready for the final step, as shown in figure 3.10: calculating the context vector z(2) by multiplying the embedded input tokens, x(i), with the corresponding attention weights and then summing the resulting vectors. Thus, context vector z(2) is the weighted sum of all input vectors, obtained by multiplying each input vector by its corresponding attention weight"
   ]
  },
  {
   "cell_type": "code",
   "execution_count": 145,
   "id": "b163d515-c3f4-4d82-9897-4ba66076aa48",
   "metadata": {},
   "outputs": [
    {
     "name": "stdout",
     "output_type": "stream",
     "text": [
      "tensor([0.5500, 0.8700, 0.6600])\n",
      "tensor([0., 0., 0.])\n",
      "tensor([0.4419, 0.6515, 0.5683])\n"
     ]
    }
   ],
   "source": [
    "query = inputs[1]\n",
    "print(query)\n",
    "context_vec_2 = torch.zeros(query.shape) #This function is a tensor constructor. It creates a new tensor with the specified dimensions and fills every element with the value 0.\n",
    "print(context_vec_2)\n",
    "for i,x_i in enumerate(inputs):\n",
    "    context_vec_2 += attn_weights_2[i]*x_i\n",
    "print(context_vec_2) #context vector for x^2"
   ]
  },
  {
   "cell_type": "markdown",
   "id": "5161f928-74aa-4bdb-b21a-30f4d8bf1585",
   "metadata": {},
   "source": [
    "We follow the same three steps as before (see figure 3.12), except that we make a few modifications in the code to compute all context vectors instead of only the second one, z(2):"
   ]
  },
  {
   "cell_type": "code",
   "execution_count": 146,
   "id": "a8e11043-e452-466e-8b7d-cff6a32ad7a7",
   "metadata": {},
   "outputs": [
    {
     "name": "stdout",
     "output_type": "stream",
     "text": [
      "tensor([[0.9995, 0.9544, 0.9422, 0.4753, 0.4576, 0.6310],\n",
      "        [0.9544, 1.4950, 1.4754, 0.8434, 0.7070, 1.0865],\n",
      "        [0.9422, 1.4754, 1.4570, 0.8296, 0.7154, 1.0605],\n",
      "        [0.4753, 0.8434, 0.8296, 0.4937, 0.3474, 0.6565],\n",
      "        [0.4576, 0.7070, 0.7154, 0.3474, 0.6654, 0.2935],\n",
      "        [0.6310, 1.0865, 1.0605, 0.6565, 0.2935, 0.9450]])\n"
     ]
    }
   ],
   "source": [
    "attn_scores = torch.empty(6, 6)\n",
    "for i, x_i in enumerate(inputs):\n",
    "    for j, x_j in enumerate(inputs):\n",
    "        attn_scores[i, j] = torch.dot(x_i, x_j)\n",
    "print(attn_scores)"
   ]
  },
  {
   "cell_type": "markdown",
   "id": "18c106a2-d60a-46e0-a820-8f0dee57a118",
   "metadata": {},
   "source": [
    "Each element in the tensor represents an attention score between each pair of inputs, as we saw in figure 3.11. Note that the values in that figure are normalized, which is why they differ from the unnormalized attention scores in the preceding tensor. We will take care of the normalization later."
   ]
  },
  {
   "cell_type": "markdown",
   "id": "68391419-bbe6-4f7c-abcd-7524449d5188",
   "metadata": {},
   "source": [
    "When computing the preceding attention score tensor, we used for loops in Python. However, for loops are generally slow, and we can achieve the same results using matrix multiplication (Matrix multiplication is a mathematical operation where two matrices are multiplied to produce a third matrix, with each element of the resulting matrix being the dot product of the corresponding row from the first matrix and column from the second matrix, often used in linear transformations and neural network computations )"
   ]
  },
  {
   "cell_type": "code",
   "execution_count": 147,
   "id": "5d785528-3538-4f83-aafa-cf0b9b660bd7",
   "metadata": {},
   "outputs": [
    {
     "name": "stdout",
     "output_type": "stream",
     "text": [
      "tensor([[0.9995, 0.9544, 0.9422, 0.4753, 0.4576, 0.6310],\n",
      "        [0.9544, 1.4950, 1.4754, 0.8434, 0.7070, 1.0865],\n",
      "        [0.9422, 1.4754, 1.4570, 0.8296, 0.7154, 1.0605],\n",
      "        [0.4753, 0.8434, 0.8296, 0.4937, 0.3474, 0.6565],\n",
      "        [0.4576, 0.7070, 0.7154, 0.3474, 0.6654, 0.2935],\n",
      "        [0.6310, 1.0865, 1.0605, 0.6565, 0.2935, 0.9450]])\n"
     ]
    }
   ],
   "source": [
    "attn_scores = inputs @ inputs.T\n",
    "print(attn_scores)"
   ]
  },
  {
   "cell_type": "markdown",
   "id": "6bc4e2ab-e385-436e-ad2e-a1deb2a120f7",
   "metadata": {},
   "source": [
    "In step 2 of figure 3.12, we normalize each row so that the values in each row sum to 1:"
   ]
  },
  {
   "cell_type": "code",
   "execution_count": 148,
   "id": "6d3cb9ec-c124-491f-a554-33f093bbdc7e",
   "metadata": {},
   "outputs": [
    {
     "name": "stdout",
     "output_type": "stream",
     "text": [
      "tensor([[0.2098, 0.2006, 0.1981, 0.1242, 0.1220, 0.1452],\n",
      "        [0.1385, 0.2379, 0.2333, 0.1240, 0.1082, 0.1581],\n",
      "        [0.1390, 0.2369, 0.2326, 0.1242, 0.1108, 0.1565],\n",
      "        [0.1435, 0.2074, 0.2046, 0.1462, 0.1263, 0.1720],\n",
      "        [0.1526, 0.1958, 0.1975, 0.1367, 0.1879, 0.1295],\n",
      "        [0.1385, 0.2184, 0.2128, 0.1420, 0.0988, 0.1896]])\n"
     ]
    }
   ],
   "source": [
    "attn_weights = torch.softmax(attn_scores, dim=-1)\n",
    "print(attn_weights)"
   ]
  },
  {
   "cell_type": "markdown",
   "id": "2e4e89d7-d149-4402-af0c-407dfa7ebae0",
   "metadata": {},
   "source": [
    "By setting dim=-1, we are instructing the softmax function to apply the normalization along the last dimension of the attn_scores tensor. If attn_scores is a two-dimensional tensor (for example, with a shape of [rows, columns]), it will normalize across the columns so that the values in each row (summing over the column dimension) sum up to 1."
   ]
  },
  {
   "cell_type": "code",
   "execution_count": 149,
   "id": "4d0fbac1-1785-4ec5-a113-f9d799cc4f8b",
   "metadata": {},
   "outputs": [
    {
     "name": "stdout",
     "output_type": "stream",
     "text": [
      "Row 2 sum: 1.0\n",
      "All row sums: tensor([1.0000, 1.0000, 1.0000, 1.0000, 1.0000, 1.0000])\n"
     ]
    }
   ],
   "source": [
    "row_2_sum = sum([0.1385, 0.2379, 0.2333, 0.1240, 0.1082, 0.1581])\n",
    "print(\"Row 2 sum:\", row_2_sum)\n",
    "print(\"All row sums:\", attn_weights.sum(dim=-1))"
   ]
  },
  {
   "cell_type": "markdown",
   "id": "951c7f9a-dc8e-4b7a-8acf-173d8cbdcc7a",
   "metadata": {},
   "source": [
    "In the third and final step of figure 3.12, we use these attention weights to compute all context vectors via matrix multiplication:"
   ]
  },
  {
   "cell_type": "code",
   "execution_count": 150,
   "id": "db1ea60c-fe44-45ca-88f5-1d7037433377",
   "metadata": {},
   "outputs": [
    {
     "name": "stdout",
     "output_type": "stream",
     "text": [
      "tensor([[0.4421, 0.5931, 0.5790],\n",
      "        [0.4419, 0.6515, 0.5683],\n",
      "        [0.4431, 0.6496, 0.5671],\n",
      "        [0.4304, 0.6298, 0.5510],\n",
      "        [0.4671, 0.5910, 0.5266],\n",
      "        [0.4177, 0.6503, 0.5645]])\n"
     ]
    }
   ],
   "source": [
    "all_context_vecs = attn_weights @ inputs\n",
    "print(all_context_vecs)"
   ]
  },
  {
   "cell_type": "markdown",
   "id": "2ab4f1c6-b50f-4671-b47c-1f1acdef3a57",
   "metadata": {},
   "source": [
    "We can double-check that the code is correct by comparing the second row with the context vector z(2) that we computed in section 3.3.1:"
   ]
  },
  {
   "cell_type": "code",
   "execution_count": 151,
   "id": "3d4adb97-644d-45db-9668-97bff0b7b487",
   "metadata": {},
   "outputs": [
    {
     "name": "stdout",
     "output_type": "stream",
     "text": [
      "Previous 2nd context vector: tensor([0.4419, 0.6515, 0.5683])\n"
     ]
    }
   ],
   "source": [
    "print(\"Previous 2nd context vector:\", context_vec_2)"
   ]
  },
  {
   "cell_type": "markdown",
   "id": "f54f2f94-29b2-4441-ae3c-c3ddb2e1567e",
   "metadata": {},
   "source": [
    "We will implement the self-attention mechanism step by step by introducing the three trainable weight matrices Wq, Wk, and Wv. These three matrices are used to project the embedded input tokens, x(i), into query, key, and value vectors, respectively, as illustrated in figure 3.14."
   ]
  },
  {
   "cell_type": "code",
   "execution_count": 152,
   "id": "159e666e-c080-4da4-8c70-3aa4e6b4d7df",
   "metadata": {},
   "outputs": [],
   "source": [
    "x_2 = inputs[1]\n",
    "d_in = inputs.shape[1]\n",
    "d_out = 2"
   ]
  },
  {
   "cell_type": "markdown",
   "id": "e7594122-0b15-46f1-a3ab-87b1491703f4",
   "metadata": {},
   "source": [
    "Note that in GPT-like models, the input and output dimensions are usually the same, but to better follow the computation, we’ll use different input (d_in=3) and output (d_out=2) dimensions here.\n",
    "\n",
    "Next, we initialize the three weight matrices Wq, Wk, and Wv shown in figure 3.14:"
   ]
  },
  {
   "cell_type": "code",
   "execution_count": 153,
   "id": "3ba8b33d-e107-4d54-8aec-7be07f940880",
   "metadata": {},
   "outputs": [],
   "source": [
    "torch.manual_seed(123)\n",
    "W_query = torch.nn.Parameter(torch.rand(d_in, d_out), requires_grad=False)\n",
    "W_key   = torch.nn.Parameter(torch.rand(d_in, d_out), requires_grad=False)\n",
    "W_value = torch.nn.Parameter(torch.rand(d_in, d_out), requires_grad=False)"
   ]
  },
  {
   "cell_type": "markdown",
   "id": "9ccb52e7-9f67-4ce4-babf-e0cc0da1dfcd",
   "metadata": {},
   "source": [
    "We set requires_grad=False to reduce clutter in the outputs, but if we were to use the weight matrices for model training, we would set requires_grad=True to update these matrices during model training.\n",
    "\n",
    "Next, we compute the query, key, and value "
   ]
  },
  {
   "cell_type": "code",
   "execution_count": 154,
   "id": "b95fbc55-d408-456d-93c8-65aa24467046",
   "metadata": {},
   "outputs": [
    {
     "name": "stdout",
     "output_type": "stream",
     "text": [
      "tensor([0.4433, 1.1419])\n",
      "tensor([0.4306, 1.4551])\n"
     ]
    }
   ],
   "source": [
    "query_2 = x_2 @ W_query \n",
    "key_2 = x_2 @ W_key \n",
    "print(key_2)\n",
    "value_2 = x_2 @ W_value\n",
    "print(query_2) # Even if the code looks similar, the values are different due to the intitialization is based on random numbers\n"
   ]
  },
  {
   "cell_type": "markdown",
   "id": "d074eb83-5fb1-4e96-b4bc-9ad18868c4c6",
   "metadata": {},
   "source": [
    "Even though our temporary goal is only to compute the one context vector, z(2), we still require the key and value vectors for all input elements as they are involved in computing the attention weights with respect to the query q (2) (see figure 3.14).\n",
    "\n",
    "We can obtain all keys and values via matrix multiplication:"
   ]
  },
  {
   "cell_type": "code",
   "execution_count": 155,
   "id": "9799c24d-49b4-4e7d-934d-e067a4028922",
   "metadata": {},
   "outputs": [
    {
     "name": "stdout",
     "output_type": "stream",
     "text": [
      "keys.shape: torch.Size([6, 2])\n",
      "values.shape: torch.Size([6, 2])\n"
     ]
    }
   ],
   "source": [
    "keys = inputs @ W_key \n",
    "values = inputs @ W_value\n",
    "print(\"keys.shape:\", keys.shape)\n",
    "print(\"values.shape:\", values.shape)"
   ]
  },
  {
   "cell_type": "markdown",
   "id": "2b2ab5d6-e723-4668-a9f1-d4cf08044b93",
   "metadata": {},
   "source": [
    "As we can tell from the outputs, we successfully projected the six input tokens from a three-dimensional onto a two-dimensional embedding space:"
   ]
  },
  {
   "cell_type": "markdown",
   "id": "39972011-e495-40a8-93d2-1d264d6ddef9",
   "metadata": {},
   "source": [
    "First, let’s compute the attention score ω22:"
   ]
  },
  {
   "cell_type": "code",
   "execution_count": 156,
   "id": "24c732bd-74a4-423b-a94a-cba0acb69d2d",
   "metadata": {},
   "outputs": [
    {
     "name": "stdout",
     "output_type": "stream",
     "text": [
      "tensor(1.8524)\n"
     ]
    }
   ],
   "source": [
    "keys_2 = keys[1]\n",
    "attn_score_22 = query_2.dot(keys_2)\n",
    "print(attn_score_22)"
   ]
  },
  {
   "cell_type": "markdown",
   "id": "6e63617e-c621-4102-aa67-1fd71c8b7d7e",
   "metadata": {},
   "source": [
    "Again, we can generalize this computation to all attention scores via matrix multiplication:"
   ]
  },
  {
   "cell_type": "code",
   "execution_count": 157,
   "id": "c3605bcb-45de-4bc9-8789-871b7781cdd3",
   "metadata": {},
   "outputs": [
    {
     "name": "stdout",
     "output_type": "stream",
     "text": [
      "tensor([1.2705, 1.8524, 1.8111, 1.0795, 0.5577, 1.5440])\n"
     ]
    }
   ],
   "source": [
    "attn_scores_2 = query_2 @ keys.T\n",
    "print(attn_scores_2)"
   ]
  },
  {
   "cell_type": "markdown",
   "id": "8a17d3a4-0a42-44f3-a516-fb72f9f65b0f",
   "metadata": {},
   "source": [
    "Now, we want to go from the attention scores to the attention weights, as illustrated in figure 3.16. We compute the attention weights by scaling the attention scores and using the softmax function. However, now we scale the attention scores by dividing them by the square root of the embedding dimension of the keys (taking the square root is mathematically the same as exponentiating by 0.5):"
   ]
  },
  {
   "cell_type": "code",
   "execution_count": 158,
   "id": "627ccdcf-fac5-49d0-a77b-a491e5430907",
   "metadata": {},
   "outputs": [
    {
     "name": "stdout",
     "output_type": "stream",
     "text": [
      "tensor([0.1500, 0.2264, 0.2199, 0.1311, 0.0906, 0.1820])\n"
     ]
    }
   ],
   "source": [
    "d_k = keys.shape[-1]\n",
    "attn_weights_2 = torch.softmax(attn_scores_2 / d_k**0.5, dim=-1)\n",
    "print(attn_weights_2)"
   ]
  },
  {
   "cell_type": "code",
   "execution_count": 159,
   "id": "f551deec-8678-4a51-8cf9-e402eb1d0028",
   "metadata": {},
   "outputs": [],
   "source": [
    "import torch.nn as nn\n",
    "class SelfAttention_v1(nn.Module):\n",
    "    def __init__(self, d_in, d_out):\n",
    "        super().__init__()\n",
    "        self.W_query = nn.Parameter(torch.rand(d_in, d_out))\n",
    "        self.W_key   = nn.Parameter(torch.rand(d_in, d_out))\n",
    "        self.W_value = nn.Parameter(torch.rand(d_in, d_out))\n",
    "\n",
    "    def forward(self, x):\n",
    "        keys = x @ self.W_key\n",
    "        queries = x @ self.W_query\n",
    "        values = x @ self.W_value\n",
    "        attn_scores = queries @ keys.T # omega\n",
    "        attn_weights = torch.softmax(\n",
    "            attn_scores / keys.shape[-1]**0.5, dim=-1\n",
    "        )\n",
    "        context_vec = attn_weights @ values\n",
    "        return context_vec"
   ]
  },
  {
   "cell_type": "markdown",
   "id": "1afaa66c-e7aa-439c-a93c-eec1a404a1ad",
   "metadata": {},
   "source": [
    "During the forward pass, using the forward method, we compute the attention scores (attn_scores) by multiplying queries and keys, normalizing these scores using softmax. Finally, we create a context vector by weighting the values with these normalized attention scores."
   ]
  },
  {
   "cell_type": "code",
   "execution_count": 160,
   "id": "9676bcd7-9eec-47b9-a339-80f0a2de6d5c",
   "metadata": {},
   "outputs": [
    {
     "name": "stdout",
     "output_type": "stream",
     "text": [
      "tensor([[0.2996, 0.8053],\n",
      "        [0.3061, 0.8210],\n",
      "        [0.3058, 0.8203],\n",
      "        [0.2948, 0.7939],\n",
      "        [0.2927, 0.7891],\n",
      "        [0.2990, 0.8040]], grad_fn=<MmBackward0>)\n"
     ]
    }
   ],
   "source": [
    "torch.manual_seed(123)\n",
    "sa_v1 = SelfAttention_v1(d_in, d_out)\n",
    "print(sa_v1(inputs))"
   ]
  },
  {
   "cell_type": "markdown",
   "id": "118c3140-9fc3-42ec-881b-9c14ed108329",
   "metadata": {},
   "source": [
    "Since inputs contains six embedding vectors, this results in a matrix storing the six context vectors:\n",
    "the second row ([0.3061, 0.8210]) matches the contents of context_vec_2 in the previous section."
   ]
  },
  {
   "cell_type": "markdown",
   "id": "8c35b1a8-09b3-446e-b508-a8aa217b6bc3",
   "metadata": {},
   "source": [
    "We can improve the SelfAttention_v1 implementation further by utilizing PyTorch’s nn.Linear layers, which effectively perform matrix multiplication when the bias units are disabled. Additionally, a significant advantage of using nn.Linear instead of manually implementing nn.Parameter(torch.rand(...)) is that nn.Linear has an optimized weight initialization scheme, contributing to more stable and effective model training."
   ]
  },
  {
   "cell_type": "code",
   "execution_count": 161,
   "id": "6effdabc-0c31-4a56-8b98-ac72b811958a",
   "metadata": {},
   "outputs": [],
   "source": [
    "class SelfAttention_v2(nn.Module):\n",
    "    def __init__(self, d_in, d_out, qkv_bias=False):\n",
    "        super().__init__()\n",
    "        self.W_query = nn.Linear(d_in, d_out, bias=qkv_bias)\n",
    "        self.W_key   = nn.Linear(d_in, d_out, bias=qkv_bias)\n",
    "        self.W_value = nn.Linear(d_in, d_out, bias=qkv_bias)\n",
    "\n",
    "    def forward(self, x):\n",
    "        keys = self.W_key(x)\n",
    "        queries = self.W_query(x)\n",
    "        values = self.W_value(x)\n",
    "        attn_scores = queries @ keys.T\n",
    "        attn_weights = torch.softmax(\n",
    "            attn_scores / keys.shape[-1]**0.5, dim=-1\n",
    "        )\n",
    "        context_vec = attn_weights @ values\n",
    "        return context_vec"
   ]
  },
  {
   "cell_type": "code",
   "execution_count": 162,
   "id": "f5a184b0-aa41-4ebd-8e51-05edcf4d3f1e",
   "metadata": {},
   "outputs": [
    {
     "name": "stdout",
     "output_type": "stream",
     "text": [
      "tensor([[-0.0739,  0.0713],\n",
      "        [-0.0748,  0.0703],\n",
      "        [-0.0749,  0.0702],\n",
      "        [-0.0760,  0.0685],\n",
      "        [-0.0763,  0.0679],\n",
      "        [-0.0754,  0.0693]], grad_fn=<MmBackward0>)\n"
     ]
    }
   ],
   "source": [
    "torch.manual_seed(789)\n",
    "sa_v2 = SelfAttention_v2(d_in, d_out)\n",
    "print(sa_v2(inputs))"
   ]
  },
  {
   "cell_type": "code",
   "execution_count": 163,
   "id": "94279c3e-63c9-4105-a6df-db10f70bd7de",
   "metadata": {},
   "outputs": [
    {
     "name": "stdout",
     "output_type": "stream",
     "text": [
      "tensor([[0.7584, 0.9454],\n",
      "        [0.7860, 0.9871],\n",
      "        [0.7858, 0.9868],\n",
      "        [0.7589, 0.9410],\n",
      "        [0.7648, 0.9542],\n",
      "        [0.7631, 0.9471]], grad_fn=<MmBackward0>)\n"
     ]
    }
   ],
   "source": [
    "torch.manual_seed(789)\n",
    "sa_v1 = SelfAttention_v1(d_in, d_out)\n",
    "print(sa_v1(inputs))"
   ]
  },
  {
   "cell_type": "code",
   "execution_count": 164,
   "id": "5595dec4-9beb-4d58-93d0-b75c9268600e",
   "metadata": {},
   "outputs": [
    {
     "name": "stdout",
     "output_type": "stream",
     "text": [
      "Output of v2 BEFORE transfer:\n",
      "tensor([[ 0.3671, -0.3086],\n",
      "        [ 0.3675, -0.3095],\n",
      "        [ 0.3675, -0.3094],\n",
      "        [ 0.3670, -0.3073],\n",
      "        [ 0.3670, -0.3061],\n",
      "        [ 0.3672, -0.3085]], grad_fn=<MmBackward0>)\n",
      "\n",
      "Output of v1 BEFORE transfer:\n",
      "tensor([[0.6923, 1.1926],\n",
      "        [0.7188, 1.2361],\n",
      "        [0.7183, 1.2352],\n",
      "        [0.6891, 1.1882],\n",
      "        [0.6897, 1.1880],\n",
      "        [0.6968, 1.2012]], grad_fn=<MmBackward0>)\n",
      "\n",
      "Output of v1 AFTER transfer:\n",
      "tensor([[ 0.3671, -0.3086],\n",
      "        [ 0.3675, -0.3095],\n",
      "        [ 0.3675, -0.3094],\n",
      "        [ 0.3670, -0.3073],\n",
      "        [ 0.3670, -0.3061],\n",
      "        [ 0.3672, -0.3085]], grad_fn=<MmBackward0>)\n"
     ]
    }
   ],
   "source": [
    "sa_v2 = SelfAttention_v2(d_in, d_out)\n",
    "print(\"Output of v2 BEFORE transfer:\")\n",
    "print(sa_v2(inputs))\n",
    "\n",
    "sa_v1 = SelfAttention_v1(d_in, d_out)\n",
    "print(\"\\nOutput of v1 BEFORE transfer:\")\n",
    "print(sa_v1(inputs))\n",
    "\n",
    "sa_v1.W_query.data = sa_v2.W_query.weight.data.T\n",
    "sa_v1.W_key.data = sa_v2.W_key.weight.data.T\n",
    "sa_v1.W_value.data = sa_v2.W_value.weight.data.T\n",
    "\n",
    "print(\"\\nOutput of v1 AFTER transfer:\")\n",
    "print(sa_v1(inputs))"
   ]
  },
  {
   "cell_type": "code",
   "execution_count": null,
   "id": "21d138ec-a3b8-444c-a3c4-538dedd1a526",
   "metadata": {},
   "outputs": [],
   "source": []
  }
 ],
 "metadata": {
  "kernelspec": {
   "display_name": "Python 3 (ipykernel)",
   "language": "python",
   "name": "python3"
  },
  "language_info": {
   "codemirror_mode": {
    "name": "ipython",
    "version": 3
   },
   "file_extension": ".py",
   "mimetype": "text/x-python",
   "name": "python",
   "nbconvert_exporter": "python",
   "pygments_lexer": "ipython3",
   "version": "3.10.0"
  }
 },
 "nbformat": 4,
 "nbformat_minor": 5
}
